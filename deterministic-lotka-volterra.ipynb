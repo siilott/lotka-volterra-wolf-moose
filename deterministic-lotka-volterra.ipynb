{
 "cells": [
  {
   "cell_type": "code",
   "execution_count": 6,
   "metadata": {},
   "outputs": [],
   "source": [
    "import scipy.integrate\n",
    "import pints\n",
    "import pints.plot\n",
    "import numpy as np\n",
    "import matplotlib.pyplot as plt\n",
    "import pandas as pd\n",
    "import pints.toy\n",
    "\n",
    "np.random.seed(123)"
   ]
  },
  {
   "cell_type": "code",
   "execution_count": 10,
   "metadata": {},
   "outputs": [
    {
     "name": "stdout",
     "output_type": "stream",
     "text": [
      "0.125\n"
     ]
    }
   ],
   "source": [
    "def load_wolf_moose_data(file_location):\n",
    "    \"\"\"Load the Wolves & Moose of Isle Royale data from csv file.\n",
    "    \n",
    "    Parameters\n",
    "    ----------\n",
    "    file_location : str\n",
    "        path to the csv file containing the wolf-moose population numbers. The file should contain \n",
    "        the year in the first column, no. of moose in the second column, and the no. of wolves in the third column.\n",
    "\n",
    "    Returns\n",
    "    -------\n",
    "    pandas.DataFrame\n",
    "        Wolves & Moose of Isle Royale\n",
    "    \"\"\"\n",
    "    names = [\"year\", \"wolves\", \"moose\", \"calves\", \"senescent\"]\n",
    "    df = pd.read_csv(file_location, header=None, names=names)\n",
    "    return df\n",
    "\n",
    "dg = load_wolf_moose_data(\"wolf_moose_data1.csv\").loc[:48]\n",
    "dg['modified time'] = (dg['year'] - 1959)* 40 # taking into account the depletion rate of the wolf population in the absence of prey (normalised time)\n",
    "mod_times = dg['modified time'].values  \n",
    "dg['adults'] = dg['moose'].values - dg['calves'].values - dg['senescent'].values\n",
    "dg['f1'] = dg['calves'].values / 160\n",
    "dg['f2'] = dg['adults'].values / 320\n",
    "dg['f3'] = dg['senescent'].values / 160\n",
    "observed_data = dg[['f1', 'f2','f3', 'wolves']].values\n",
    "init_calves, init_adults, init_senescent, init_wolves = dg['f1'].iloc[0], dg['f2'].iloc[0], dg['f3'].iloc[0], dg['wolves'].iloc[0]\n",
    "print(init_calves)"
   ]
  },
  {
   "cell_type": "code",
   "execution_count": 11,
   "metadata": {},
   "outputs": [],
   "source": [
    "class LotkaVolterraModel(pints.ForwardModel):\n",
    "\n",
    "    def __init__(self, method=\"RK45\", rtol=1e-6, atol=1e-6):\n",
    "        \"\"\"\n",
    "        Parameters\n",
    "        ----------\n",
    "        method : str or scipy solver\n",
    "            Solver method for solving ODE\n",
    "        rtol : float\n",
    "            Relative tolerance of ODE solution (applies to adaptive solvers)\n",
    "        atol : float\n",
    "            Absolute tolerance of ODE solution (applies to adaptive solvers)\n",
    "        \"\"\"\n",
    "        super().__init__()\n",
    "        self.method = method\n",
    "        self.rtol = rtol\n",
    "        self.atol = atol\n",
    "\n",
    "    def n_outputs(self):\n",
    "        \"\"\" See :meth:`pints.ForwardModel.n_outputs()`. \"\"\"\n",
    "        return 4\n",
    "\n",
    "    def n_parameters(self):\n",
    "        return 1\n",
    "    \n",
    "    # def simulate(self, parameters, times):\n",
    "    #     k_1, k_2, k_3, d_1, d_3, l_12, l_13, l_32, F = parameters\n",
    "\n",
    "    #     def dy(t, state):\n",
    "    #         f_1, f_2, f_3, f_4= state\n",
    "\n",
    "    #         def safe_exp(x):\n",
    "    #             return np.exp(np.clip(x, -709, 709)) # np.exp(x) overflows for x > 709 and underflows for x < -709\n",
    "    #         #Ensure that the denominators are not zero or close to zero by adding a small epsilon value to avoid division by zero errors\n",
    "    #         epsilon = 1e-10\n",
    "\n",
    "    #         G = ((d_1 + d_3) * (1 - np.exp(-d_1*f_1 - d_3*f_3)))/((d_1*f_1 + d_3*f_3+epsilon) * (1-np.exp(-d_1-d_3)+epsilon))\n",
    "            \n",
    "    #         df_1 = k_1*((1-(f_1+f_2+f_3)/(F+epsilon))*(-f_1+l_12*f_2 + l_13*f_3)-(1-3/(F+epsilon))*(l_12+l_13-1)*f_1*f_4*G)\n",
    "    #         df_2 = k_2*(f_1-f_2)\n",
    "    #         df_3 = k_3*(l_32*f_2 -f_3 -(l_32-1)*f_3*f_4*G)\n",
    "    #         df_4 = f_4*(-1+(1 - np.exp(-d_1*f_1 - d_3*f_3))/(1-np.exp(-d_1-d_3)+epsilon))\n",
    "            \n",
    "    #         return (df_1, df_2, df_3, df_4)\n",
    "\n",
    "    #     initial_condition = np.asarray([np.log(init_calves), np.log(init_adults), np.log(init_senescent), np.log(init_wolves) ])\n",
    "\n",
    "    #     res = scipy.integrate.solve_ivp(\n",
    "    #         dy,\n",
    "    #         (0, max(mod_times)),\n",
    "    #         initial_condition,\n",
    "    #         t_eval=mod_times )\n",
    "        \n",
    "    #     return res.y.T\n",
    "    \n",
    "    def simulate(self, parameters, times):\n",
    "        k_1= parameters\n",
    "        k_2, k_3 ,d_1, d_3, l_12, l_13, l_32, F = 0.00075, 0.006, 2.0, 2.4, 2.0, 1.0, 16.0, 8.0 \n",
    "\n",
    "        def dy(t, state):\n",
    "            f_1, f_2, f_3, f_4 = state\n",
    "\n",
    "            def safe_exp(x):\n",
    "                return np.exp(np.clip(x, -709, 709)) # np.exp(x) overflows for x > 709 and underflows for x < -709\n",
    "            #Ensure that the denominators are not zero or close to zero by adding a small epsilon value to avoid division by zero errors\n",
    "            epsilon = 1e-10\n",
    "\n",
    "            G = ((d_1 + d_3) * (1 - np.exp(-d_1*f_1 - d_3*f_3)))/((d_1*f_1 + d_3*f_3+epsilon) * (1-np.exp(-d_1-d_3)+epsilon))\n",
    "            \n",
    "            df_1 = k_1*((1-(f_1+f_2+f_3)/(F+epsilon))*(-f_1+l_12*f_2 + l_13*f_3)-(1-3/(F+epsilon))*(l_12+l_13-1)*f_1*f_4*G)\n",
    "            df_2 = k_2*(f_1-f_2)\n",
    "            df_3 = k_3*(l_32*f_2 -f_3 -(l_32-1)*f_3*f_4*G)\n",
    "            df_4 = f_4*(-1+(1 - np.exp(-d_1*f_1 - d_3*f_3))/(1-np.exp(-d_1-d_3)+epsilon))\n",
    "            \n",
    "            return (df_1, df_2, df_3, df_4)\n",
    "\n",
    "        initial_condition = np.asarray([np.log(init_calves), np.log(init_adults), np.log(init_senescent), np.log(init_wolves) ])\n",
    "\n",
    "        res = scipy.integrate.solve_ivp(\n",
    "            dy,\n",
    "            (0, max(mod_times)),\n",
    "            initial_condition,\n",
    "            t_eval=mod_times )\n",
    "        \n",
    "        return res.y.T\n",
    "    \n",
    "m = LotkaVolterraModel()\n"
   ]
  },
  {
   "cell_type": "code",
   "execution_count": 12,
   "metadata": {},
   "outputs": [
    {
     "name": "stderr",
     "output_type": "stream",
     "text": [
      "/var/folders/_k/n00gvc8n0mn06wzz2y3rqqgh0000gp/T/ipykernel_95621/3136141893.py:15: UserWarning: Matplotlib is currently using agg, which is a non-GUI backend, so cannot show the figure.\n",
      "  plt.show()\n",
      "/var/folders/_k/n00gvc8n0mn06wzz2y3rqqgh0000gp/T/ipykernel_95621/3136141893.py:36: UserWarning: Matplotlib is currently using agg, which is a non-GUI backend, so cannot show the figure.\n",
      "  plt.show()\n"
     ]
    }
   ],
   "source": [
    "# Plot wolf and moose populations\n",
    "fig, ax1 = plt.subplots()\n",
    "\n",
    "ax1.set_xlabel('Year')\n",
    "ax1.set_ylabel('Wolf Population', color='tab:red')\n",
    "ax1.plot(mod_times, dg['wolves'], 'x', color='tab:red', label='Wolves')\n",
    "ax1.tick_params(axis='y', labelcolor='tab:red')\n",
    "\n",
    "ax2 = ax1.twinx()\n",
    "ax2.set_ylabel('Moose Population', color='tab:blue')\n",
    "ax2.plot(mod_times, (dg['f1'].values + dg['f2'].values +dg['f3'].values), 'x', color='tab:blue', label='Moose')\n",
    "ax2.tick_params(axis='y', labelcolor='tab:blue')\n",
    "\n",
    "fig.tight_layout()\n",
    "plt.show()\n",
    "\n",
    "# Make a model object and run a simulation at arbitrary parameter values\n",
    "arbitrary_params = 0.0125\n",
    "# [ 0.0125, 0.00075, 0.006]\n",
    "\n",
    "values = m.simulate(arbitrary_params, mod_times)\n",
    "\n",
    "fig, ax1 = plt.subplots()\n",
    "\n",
    "ax1.set_xlabel('Time')\n",
    "ax1.set_ylabel('Wolf Population', color='tab:red')\n",
    "ax1.plot(mod_times, np.exp(values[:,0]), color='tab:red', label='Wolves')\n",
    "ax1.tick_params(axis='y', labelcolor='tab:red')\n",
    "\n",
    "ax2 = ax1.twinx()\n",
    "ax2.set_ylabel('Moose Population', color='tab:blue')\n",
    "ax2.plot(mod_times, np.exp((values[:, 1] + values[:,2] + values[:,3])), color='tab:blue', label='Moose')\n",
    "ax2.tick_params(axis='y', labelcolor='tab:blue')\n",
    "\n",
    "fig.tight_layout()\n",
    "plt.show()"
   ]
  },
  {
   "cell_type": "code",
   "execution_count": 123,
   "metadata": {},
   "outputs": [
    {
     "data": {
      "image/png": "[encoded data removed]",
      "text/plain": [
       "<Figure size 432x288 with 1 Axes>"
      ]
     },
     "metadata": {
      "needs_background": "light"
     },
     "output_type": "display_data"
    }
   ],
   "source": [
    "# First add some noise\n",
    "sigma = 0.5\n",
    "noisy = values + np.random.normal(0, sigma, values.shape)\n",
    "\n",
    "# Plot the results\n",
    "plt.figure()\n",
    "plt.xlabel('Time')\n",
    "plt.ylabel('Noisy values')\n",
    "plt.plot(mod_times, noisy)\n",
    "plt.show()"
   ]
  },
  {
   "cell_type": "code",
   "execution_count": 125,
   "metadata": {},
   "outputs": [
    {
     "name": "stdout",
     "output_type": "stream",
     "text": [
      "Minimising error measure\n",
      "Using Covariance Matrix Adaptation Evolution Strategy (CMA-ES)\n",
      "Running in sequential mode.\n",
      "Population size: 4\n"
     ]
    },
    {
     "name": "stderr",
     "output_type": "stream",
     "text": [
      "/var/folders/_k/n00gvc8n0mn06wzz2y3rqqgh0000gp/T/ipykernel_1861/1189900076.py:68: RuntimeWarning: overflow encountered in exp\n",
      "  G = ((d_1 + d_3) * (1 - np.exp(-d_1*f_1 - d_3*f_3)))/((d_1*f_1 + d_3*f_3+epsilon) * (1-np.exp(-d_1-d_3)+epsilon))\n",
      "/var/folders/_k/n00gvc8n0mn06wzz2y3rqqgh0000gp/T/ipykernel_1861/1189900076.py:73: RuntimeWarning: overflow encountered in exp\n",
      "  df_4 = f_4*(-1+(1 - np.exp(-d_1*f_1 - d_3*f_3))/(1-np.exp(-d_1-d_3)+epsilon))\n",
      "/var/folders/_k/n00gvc8n0mn06wzz2y3rqqgh0000gp/T/ipykernel_1861/1189900076.py:68: RuntimeWarning: invalid value encountered in double_scalars\n",
      "  G = ((d_1 + d_3) * (1 - np.exp(-d_1*f_1 - d_3*f_3)))/((d_1*f_1 + d_3*f_3+epsilon) * (1-np.exp(-d_1-d_3)+epsilon))\n",
      "/var/folders/_k/n00gvc8n0mn06wzz2y3rqqgh0000gp/T/ipykernel_1861/1189900076.py:70: RuntimeWarning: invalid value encountered in double_scalars\n",
      "  df_1 = k_1*((1-(f_1+f_2+f_3)/(F+epsilon))*(-f_1+l_12*f_2 + l_13*f_3)-(1-3/(F+epsilon))*(l_12+l_13-1)*f_1*f_4*G)\n",
      "/var/folders/_k/n00gvc8n0mn06wzz2y3rqqgh0000gp/T/ipykernel_1861/1189900076.py:73: RuntimeWarning: invalid value encountered in double_scalars\n",
      "  df_4 = f_4*(-1+(1 - np.exp(-d_1*f_1 - d_3*f_3))/(1-np.exp(-d_1-d_3)+epsilon))\n"
     ]
    },
    {
     "name": "stdout",
     "output_type": "stream",
     "text": [
      "Iter. Eval. Best      Current   Time m:s\n",
      "0     4      44.44389  44.44389   2:09.4\n",
      "\n",
      "----------------------------------------\n",
      "Unexpected termination.\n",
      "Current score: 44.44388577203164\n",
      "Current position:\n",
      " 1.38538065569125922e-02\n",
      "----------------------------------------\n"
     ]
    },
    {
     "ename": "KeyboardInterrupt",
     "evalue": "",
     "output_type": "error",
     "traceback": [
      "\u001b[0;31m---------------------------------------------------------------------------\u001b[0m",
      "\u001b[0;31mKeyboardInterrupt\u001b[0m                         Traceback (most recent call last)",
      "Input \u001b[0;32mIn [125]\u001b[0m, in \u001b[0;36m<cell line: 31>\u001b[0;34m()\u001b[0m\n\u001b[1;32m      6\u001b[0m boundaries \u001b[38;5;241m=\u001b[39m pints\u001b[38;5;241m.\u001b[39mRectangularBoundaries(\n\u001b[1;32m      7\u001b[0m     [\u001b[38;5;241m0.001\u001b[39m],\n\u001b[1;32m      8\u001b[0m     [\u001b[38;5;241m0.1\u001b[39m])\n\u001b[1;32m      9\u001b[0m     \u001b[38;5;66;03m# [0.001, 0.0001, 0.001],\u001b[39;00m\n\u001b[1;32m     10\u001b[0m     \u001b[38;5;66;03m# [0.1, 0.001, 0.01])\u001b[39;00m\n\u001b[1;32m     11\u001b[0m \n\u001b[0;32m   (...)\u001b[0m\n\u001b[1;32m     28\u001b[0m \n\u001b[1;32m     29\u001b[0m \u001b[38;5;66;03m# found_parameters, found_value = opt.run()\u001b[39;00m\n\u001b[0;32m---> 31\u001b[0m found_parameters, found_value \u001b[38;5;241m=\u001b[39m \u001b[43mpints\u001b[49m\u001b[38;5;241;43m.\u001b[39;49m\u001b[43moptimise\u001b[49m\u001b[43m(\u001b[49m\u001b[43merror\u001b[49m\u001b[43m,\u001b[49m\u001b[43m \u001b[49m\u001b[43marbitrary_params\u001b[49m\u001b[43m,\u001b[49m\u001b[43m \u001b[49m\u001b[43mboundaries\u001b[49m\u001b[38;5;241;43m=\u001b[39;49m\u001b[43mboundaries\u001b[49m\u001b[43m)\u001b[49m\n\u001b[1;32m     33\u001b[0m \u001b[38;5;28mprint\u001b[39m(\u001b[38;5;124m\"\u001b[39m\u001b[38;5;124mFit parameters:\u001b[39m\u001b[38;5;124m\"\u001b[39m, found_parameters)\n",
      "File \u001b[0;32m~/opt/anaconda3/lib/python3.9/site-packages/pints/_optimisers/__init__.py:1007\u001b[0m, in \u001b[0;36moptimise\u001b[0;34m(function, x0, sigma0, boundaries, transformation, method)\u001b[0m\n\u001b[1;32m    967\u001b[0m \u001b[38;5;28;01mdef\u001b[39;00m \u001b[38;5;21moptimise\u001b[39m(\n\u001b[1;32m    968\u001b[0m         function, x0, sigma0\u001b[38;5;241m=\u001b[39m\u001b[38;5;28;01mNone\u001b[39;00m, boundaries\u001b[38;5;241m=\u001b[39m\u001b[38;5;28;01mNone\u001b[39;00m, transformation\u001b[38;5;241m=\u001b[39m\u001b[38;5;28;01mNone\u001b[39;00m,\n\u001b[1;32m    969\u001b[0m         method\u001b[38;5;241m=\u001b[39m\u001b[38;5;28;01mNone\u001b[39;00m):\n\u001b[1;32m    970\u001b[0m     \u001b[38;5;124;03m\"\"\"\u001b[39;00m\n\u001b[1;32m    971\u001b[0m \u001b[38;5;124;03m    Finds the parameter values that minimise an :class:`ErrorMeasure` or\u001b[39;00m\n\u001b[1;32m    972\u001b[0m \u001b[38;5;124;03m    maximise a :class:`LogPDF`.\u001b[39;00m\n\u001b[0;32m   (...)\u001b[0m\n\u001b[1;32m   1005\u001b[0m \u001b[38;5;124;03m        The corresponding score.\u001b[39;00m\n\u001b[1;32m   1006\u001b[0m \u001b[38;5;124;03m    \"\"\"\u001b[39;00m\n\u001b[0;32m-> 1007\u001b[0m     \u001b[38;5;28;01mreturn\u001b[39;00m \u001b[43mOptimisationController\u001b[49m\u001b[43m(\u001b[49m\n\u001b[1;32m   1008\u001b[0m \u001b[43m        \u001b[49m\u001b[43mfunction\u001b[49m\u001b[43m,\u001b[49m\u001b[43m \u001b[49m\u001b[43mx0\u001b[49m\u001b[43m,\u001b[49m\u001b[43m \u001b[49m\u001b[43msigma0\u001b[49m\u001b[43m,\u001b[49m\u001b[43m \u001b[49m\u001b[43mboundaries\u001b[49m\u001b[43m,\u001b[49m\u001b[43m \u001b[49m\u001b[43mtransformation\u001b[49m\u001b[43m,\u001b[49m\u001b[43m \u001b[49m\u001b[43mmethod\u001b[49m\u001b[43m)\u001b[49m\u001b[38;5;241;43m.\u001b[39;49m\u001b[43mrun\u001b[49m\u001b[43m(\u001b[49m\u001b[43m)\u001b[49m\n",
      "File \u001b[0;32m~/opt/anaconda3/lib/python3.9/site-packages/pints/_optimisers/__init__.py:649\u001b[0m, in \u001b[0;36mOptimisationController.run\u001b[0;34m(self)\u001b[0m\n\u001b[1;32m    646\u001b[0m xs \u001b[38;5;241m=\u001b[39m \u001b[38;5;28mself\u001b[39m\u001b[38;5;241m.\u001b[39m_optimiser\u001b[38;5;241m.\u001b[39mask()\n\u001b[1;32m    648\u001b[0m \u001b[38;5;66;03m# Calculate scores\u001b[39;00m\n\u001b[0;32m--> 649\u001b[0m fs \u001b[38;5;241m=\u001b[39m \u001b[43mevaluator\u001b[49m\u001b[38;5;241;43m.\u001b[39;49m\u001b[43mevaluate\u001b[49m\u001b[43m(\u001b[49m\u001b[43mxs\u001b[49m\u001b[43m)\u001b[49m\n\u001b[1;32m    651\u001b[0m \u001b[38;5;66;03m# Perform iteration\u001b[39;00m\n\u001b[1;32m    652\u001b[0m \u001b[38;5;28mself\u001b[39m\u001b[38;5;241m.\u001b[39m_optimiser\u001b[38;5;241m.\u001b[39mtell(fs)\n",
      "File \u001b[0;32m~/opt/anaconda3/lib/python3.9/site-packages/pints/_evaluation.py:119\u001b[0m, in \u001b[0;36mEvaluator.evaluate\u001b[0;34m(self, positions)\u001b[0m\n\u001b[1;32m    115\u001b[0m \u001b[38;5;28;01mexcept\u001b[39;00m \u001b[38;5;167;01mTypeError\u001b[39;00m:\n\u001b[1;32m    116\u001b[0m     \u001b[38;5;28;01mraise\u001b[39;00m \u001b[38;5;167;01mValueError\u001b[39;00m(\n\u001b[1;32m    117\u001b[0m         \u001b[38;5;124m'\u001b[39m\u001b[38;5;124mThe argument `positions` must be a sequence of input values\u001b[39m\u001b[38;5;124m'\u001b[39m\n\u001b[1;32m    118\u001b[0m         \u001b[38;5;124m'\u001b[39m\u001b[38;5;124m to the evaluator\u001b[39m\u001b[38;5;130;01m\\'\u001b[39;00m\u001b[38;5;124ms function.\u001b[39m\u001b[38;5;124m'\u001b[39m)\n\u001b[0;32m--> 119\u001b[0m \u001b[38;5;28;01mreturn\u001b[39;00m \u001b[38;5;28;43mself\u001b[39;49m\u001b[38;5;241;43m.\u001b[39;49m\u001b[43m_evaluate\u001b[49m\u001b[43m(\u001b[49m\u001b[43mpositions\u001b[49m\u001b[43m)\u001b[49m\n",
      "File \u001b[0;32m~/opt/anaconda3/lib/python3.9/site-packages/pints/_evaluation.py:481\u001b[0m, in \u001b[0;36mSequentialEvaluator._evaluate\u001b[0;34m(self, positions)\u001b[0m\n\u001b[1;32m    479\u001b[0m scores \u001b[38;5;241m=\u001b[39m [\u001b[38;5;241m0\u001b[39m] \u001b[38;5;241m*\u001b[39m \u001b[38;5;28mlen\u001b[39m(positions)\n\u001b[1;32m    480\u001b[0m \u001b[38;5;28;01mfor\u001b[39;00m k, x \u001b[38;5;129;01min\u001b[39;00m \u001b[38;5;28menumerate\u001b[39m(positions):\n\u001b[0;32m--> 481\u001b[0m     scores[k] \u001b[38;5;241m=\u001b[39m \u001b[38;5;28;43mself\u001b[39;49m\u001b[38;5;241;43m.\u001b[39;49m\u001b[43m_function\u001b[49m\u001b[43m(\u001b[49m\u001b[43mx\u001b[49m\u001b[43m,\u001b[49m\u001b[43m \u001b[49m\u001b[38;5;241;43m*\u001b[39;49m\u001b[38;5;28;43mself\u001b[39;49m\u001b[38;5;241;43m.\u001b[39;49m\u001b[43m_args\u001b[49m\u001b[43m)\u001b[49m\n\u001b[1;32m    482\u001b[0m \u001b[38;5;28;01mreturn\u001b[39;00m scores\n",
      "File \u001b[0;32m~/opt/anaconda3/lib/python3.9/site-packages/pints/_error_measures.py:359\u001b[0m, in \u001b[0;36mSumOfSquaresError.__call__\u001b[0;34m(self, x)\u001b[0m\n\u001b[1;32m    358\u001b[0m \u001b[38;5;28;01mdef\u001b[39;00m \u001b[38;5;21m__call__\u001b[39m(\u001b[38;5;28mself\u001b[39m, x):\n\u001b[0;32m--> 359\u001b[0m     \u001b[38;5;28;01mreturn\u001b[39;00m np\u001b[38;5;241m.\u001b[39msum((np\u001b[38;5;241m.\u001b[39msum(((\u001b[38;5;28;43mself\u001b[39;49m\u001b[38;5;241;43m.\u001b[39;49m\u001b[43m_problem\u001b[49m\u001b[38;5;241;43m.\u001b[39;49m\u001b[43mevaluate\u001b[49m\u001b[43m(\u001b[49m\u001b[43mx\u001b[49m\u001b[43m)\u001b[49m \u001b[38;5;241m-\u001b[39m \u001b[38;5;28mself\u001b[39m\u001b[38;5;241m.\u001b[39m_values)\u001b[38;5;241m*\u001b[39m\u001b[38;5;241m*\u001b[39m\u001b[38;5;241m2\u001b[39m),\n\u001b[1;32m    360\u001b[0m                           axis\u001b[38;5;241m=\u001b[39m\u001b[38;5;241m0\u001b[39m) \u001b[38;5;241m*\u001b[39m \u001b[38;5;28mself\u001b[39m\u001b[38;5;241m.\u001b[39m_weights),\n\u001b[1;32m    361\u001b[0m                   axis\u001b[38;5;241m=\u001b[39m\u001b[38;5;241m0\u001b[39m)\n",
      "File \u001b[0;32m~/opt/anaconda3/lib/python3.9/site-packages/pints/_core.py:262\u001b[0m, in \u001b[0;36mMultiOutputProblem.evaluate\u001b[0;34m(self, parameters)\u001b[0m\n\u001b[1;32m    255\u001b[0m \u001b[38;5;28;01mdef\u001b[39;00m \u001b[38;5;21mevaluate\u001b[39m(\u001b[38;5;28mself\u001b[39m, parameters):\n\u001b[1;32m    256\u001b[0m     \u001b[38;5;124;03m\"\"\"\u001b[39;00m\n\u001b[1;32m    257\u001b[0m \u001b[38;5;124;03m    Runs a simulation using the given parameters, returning the simulated\u001b[39;00m\n\u001b[1;32m    258\u001b[0m \u001b[38;5;124;03m    values.\u001b[39;00m\n\u001b[1;32m    259\u001b[0m \n\u001b[1;32m    260\u001b[0m \u001b[38;5;124;03m    The returned data is a NumPy array with shape ``(n_times, n_outputs)``.\u001b[39;00m\n\u001b[1;32m    261\u001b[0m \u001b[38;5;124;03m    \"\"\"\u001b[39;00m\n\u001b[0;32m--> 262\u001b[0m     y \u001b[38;5;241m=\u001b[39m np\u001b[38;5;241m.\u001b[39masarray(\u001b[38;5;28;43mself\u001b[39;49m\u001b[38;5;241;43m.\u001b[39;49m\u001b[43m_model\u001b[49m\u001b[38;5;241;43m.\u001b[39;49m\u001b[43msimulate\u001b[49m\u001b[43m(\u001b[49m\u001b[43mparameters\u001b[49m\u001b[43m,\u001b[49m\u001b[43m \u001b[49m\u001b[38;5;28;43mself\u001b[39;49m\u001b[38;5;241;43m.\u001b[39;49m\u001b[43m_times\u001b[49m\u001b[43m)\u001b[49m)\n\u001b[1;32m    263\u001b[0m     \u001b[38;5;28;01mreturn\u001b[39;00m y\u001b[38;5;241m.\u001b[39mreshape(\u001b[38;5;28mself\u001b[39m\u001b[38;5;241m.\u001b[39m_n_times, \u001b[38;5;28mself\u001b[39m\u001b[38;5;241m.\u001b[39m_n_outputs)\n",
      "Input \u001b[0;32mIn [120]\u001b[0m, in \u001b[0;36mLotkaVolterraModel.simulate\u001b[0;34m(self, parameters, times)\u001b[0m\n\u001b[1;32m     75\u001b[0m     \u001b[38;5;28;01mreturn\u001b[39;00m (df_1, df_2, df_3, df_4)\n\u001b[1;32m     77\u001b[0m initial_condition \u001b[38;5;241m=\u001b[39m np\u001b[38;5;241m.\u001b[39masarray([np\u001b[38;5;241m.\u001b[39mlog(init_calves), np\u001b[38;5;241m.\u001b[39mlog(init_adults), np\u001b[38;5;241m.\u001b[39mlog(init_senescent), np\u001b[38;5;241m.\u001b[39mlog(init_wolves) ])\n\u001b[0;32m---> 79\u001b[0m res \u001b[38;5;241m=\u001b[39m \u001b[43mscipy\u001b[49m\u001b[38;5;241;43m.\u001b[39;49m\u001b[43mintegrate\u001b[49m\u001b[38;5;241;43m.\u001b[39;49m\u001b[43msolve_ivp\u001b[49m\u001b[43m(\u001b[49m\n\u001b[1;32m     80\u001b[0m \u001b[43m    \u001b[49m\u001b[43mdy\u001b[49m\u001b[43m,\u001b[49m\n\u001b[1;32m     81\u001b[0m \u001b[43m    \u001b[49m\u001b[43m(\u001b[49m\u001b[38;5;241;43m0\u001b[39;49m\u001b[43m,\u001b[49m\u001b[43m \u001b[49m\u001b[38;5;28;43mmax\u001b[39;49m\u001b[43m(\u001b[49m\u001b[43mmod_times\u001b[49m\u001b[43m)\u001b[49m\u001b[43m)\u001b[49m\u001b[43m,\u001b[49m\n\u001b[1;32m     82\u001b[0m \u001b[43m    \u001b[49m\u001b[43minitial_condition\u001b[49m\u001b[43m,\u001b[49m\n\u001b[1;32m     83\u001b[0m \u001b[43m    \u001b[49m\u001b[43mt_eval\u001b[49m\u001b[38;5;241;43m=\u001b[39;49m\u001b[43mmod_times\u001b[49m\u001b[43m \u001b[49m\u001b[43m)\u001b[49m\n\u001b[1;32m     85\u001b[0m \u001b[38;5;28;01mreturn\u001b[39;00m res\u001b[38;5;241m.\u001b[39my\u001b[38;5;241m.\u001b[39mT\n",
      "File \u001b[0;32m~/opt/anaconda3/lib/python3.9/site-packages/scipy/integrate/_ivp/ivp.py:576\u001b[0m, in \u001b[0;36msolve_ivp\u001b[0;34m(fun, t_span, y0, method, t_eval, dense_output, events, vectorized, args, **options)\u001b[0m\n\u001b[1;32m    574\u001b[0m status \u001b[38;5;241m=\u001b[39m \u001b[38;5;28;01mNone\u001b[39;00m\n\u001b[1;32m    575\u001b[0m \u001b[38;5;28;01mwhile\u001b[39;00m status \u001b[38;5;129;01mis\u001b[39;00m \u001b[38;5;28;01mNone\u001b[39;00m:\n\u001b[0;32m--> 576\u001b[0m     message \u001b[38;5;241m=\u001b[39m \u001b[43msolver\u001b[49m\u001b[38;5;241;43m.\u001b[39;49m\u001b[43mstep\u001b[49m\u001b[43m(\u001b[49m\u001b[43m)\u001b[49m\n\u001b[1;32m    578\u001b[0m     \u001b[38;5;28;01mif\u001b[39;00m solver\u001b[38;5;241m.\u001b[39mstatus \u001b[38;5;241m==\u001b[39m \u001b[38;5;124m'\u001b[39m\u001b[38;5;124mfinished\u001b[39m\u001b[38;5;124m'\u001b[39m:\n\u001b[1;32m    579\u001b[0m         status \u001b[38;5;241m=\u001b[39m \u001b[38;5;241m0\u001b[39m\n",
      "File \u001b[0;32m~/opt/anaconda3/lib/python3.9/site-packages/scipy/integrate/_ivp/base.py:181\u001b[0m, in \u001b[0;36mOdeSolver.step\u001b[0;34m(self)\u001b[0m\n\u001b[1;32m    179\u001b[0m \u001b[38;5;28;01melse\u001b[39;00m:\n\u001b[1;32m    180\u001b[0m     t \u001b[38;5;241m=\u001b[39m \u001b[38;5;28mself\u001b[39m\u001b[38;5;241m.\u001b[39mt\n\u001b[0;32m--> 181\u001b[0m     success, message \u001b[38;5;241m=\u001b[39m \u001b[38;5;28;43mself\u001b[39;49m\u001b[38;5;241;43m.\u001b[39;49m\u001b[43m_step_impl\u001b[49m\u001b[43m(\u001b[49m\u001b[43m)\u001b[49m\n\u001b[1;32m    183\u001b[0m     \u001b[38;5;28;01mif\u001b[39;00m \u001b[38;5;129;01mnot\u001b[39;00m success:\n\u001b[1;32m    184\u001b[0m         \u001b[38;5;28mself\u001b[39m\u001b[38;5;241m.\u001b[39mstatus \u001b[38;5;241m=\u001b[39m \u001b[38;5;124m'\u001b[39m\u001b[38;5;124mfailed\u001b[39m\u001b[38;5;124m'\u001b[39m\n",
      "File \u001b[0;32m~/opt/anaconda3/lib/python3.9/site-packages/scipy/integrate/_ivp/rk.py:144\u001b[0m, in \u001b[0;36mRungeKutta._step_impl\u001b[0;34m(self)\u001b[0m\n\u001b[1;32m    141\u001b[0m h \u001b[38;5;241m=\u001b[39m t_new \u001b[38;5;241m-\u001b[39m t\n\u001b[1;32m    142\u001b[0m h_abs \u001b[38;5;241m=\u001b[39m np\u001b[38;5;241m.\u001b[39mabs(h)\n\u001b[0;32m--> 144\u001b[0m y_new, f_new \u001b[38;5;241m=\u001b[39m \u001b[43mrk_step\u001b[49m\u001b[43m(\u001b[49m\u001b[38;5;28;43mself\u001b[39;49m\u001b[38;5;241;43m.\u001b[39;49m\u001b[43mfun\u001b[49m\u001b[43m,\u001b[49m\u001b[43m \u001b[49m\u001b[43mt\u001b[49m\u001b[43m,\u001b[49m\u001b[43m \u001b[49m\u001b[43my\u001b[49m\u001b[43m,\u001b[49m\u001b[43m \u001b[49m\u001b[38;5;28;43mself\u001b[39;49m\u001b[38;5;241;43m.\u001b[39;49m\u001b[43mf\u001b[49m\u001b[43m,\u001b[49m\u001b[43m \u001b[49m\u001b[43mh\u001b[49m\u001b[43m,\u001b[49m\u001b[43m \u001b[49m\u001b[38;5;28;43mself\u001b[39;49m\u001b[38;5;241;43m.\u001b[39;49m\u001b[43mA\u001b[49m\u001b[43m,\u001b[49m\n\u001b[1;32m    145\u001b[0m \u001b[43m                       \u001b[49m\u001b[38;5;28;43mself\u001b[39;49m\u001b[38;5;241;43m.\u001b[39;49m\u001b[43mB\u001b[49m\u001b[43m,\u001b[49m\u001b[43m \u001b[49m\u001b[38;5;28;43mself\u001b[39;49m\u001b[38;5;241;43m.\u001b[39;49m\u001b[43mC\u001b[49m\u001b[43m,\u001b[49m\u001b[43m \u001b[49m\u001b[38;5;28;43mself\u001b[39;49m\u001b[38;5;241;43m.\u001b[39;49m\u001b[43mK\u001b[49m\u001b[43m)\u001b[49m\n\u001b[1;32m    146\u001b[0m scale \u001b[38;5;241m=\u001b[39m atol \u001b[38;5;241m+\u001b[39m np\u001b[38;5;241m.\u001b[39mmaximum(np\u001b[38;5;241m.\u001b[39mabs(y), np\u001b[38;5;241m.\u001b[39mabs(y_new)) \u001b[38;5;241m*\u001b[39m rtol\n\u001b[1;32m    147\u001b[0m error_norm \u001b[38;5;241m=\u001b[39m \u001b[38;5;28mself\u001b[39m\u001b[38;5;241m.\u001b[39m_estimate_error_norm(\u001b[38;5;28mself\u001b[39m\u001b[38;5;241m.\u001b[39mK, h, scale)\n",
      "File \u001b[0;32m~/opt/anaconda3/lib/python3.9/site-packages/scipy/integrate/_ivp/rk.py:64\u001b[0m, in \u001b[0;36mrk_step\u001b[0;34m(fun, t, y, f, h, A, B, C, K)\u001b[0m\n\u001b[1;32m     62\u001b[0m \u001b[38;5;28;01mfor\u001b[39;00m s, (a, c) \u001b[38;5;129;01min\u001b[39;00m \u001b[38;5;28menumerate\u001b[39m(\u001b[38;5;28mzip\u001b[39m(A[\u001b[38;5;241m1\u001b[39m:], C[\u001b[38;5;241m1\u001b[39m:]), start\u001b[38;5;241m=\u001b[39m\u001b[38;5;241m1\u001b[39m):\n\u001b[1;32m     63\u001b[0m     dy \u001b[38;5;241m=\u001b[39m np\u001b[38;5;241m.\u001b[39mdot(K[:s]\u001b[38;5;241m.\u001b[39mT, a[:s]) \u001b[38;5;241m*\u001b[39m h\n\u001b[0;32m---> 64\u001b[0m     K[s] \u001b[38;5;241m=\u001b[39m \u001b[43mfun\u001b[49m\u001b[43m(\u001b[49m\u001b[43mt\u001b[49m\u001b[43m \u001b[49m\u001b[38;5;241;43m+\u001b[39;49m\u001b[43m \u001b[49m\u001b[43mc\u001b[49m\u001b[43m \u001b[49m\u001b[38;5;241;43m*\u001b[39;49m\u001b[43m \u001b[49m\u001b[43mh\u001b[49m\u001b[43m,\u001b[49m\u001b[43m \u001b[49m\u001b[43my\u001b[49m\u001b[43m \u001b[49m\u001b[38;5;241;43m+\u001b[39;49m\u001b[43m \u001b[49m\u001b[43mdy\u001b[49m\u001b[43m)\u001b[49m\n\u001b[1;32m     66\u001b[0m y_new \u001b[38;5;241m=\u001b[39m y \u001b[38;5;241m+\u001b[39m h \u001b[38;5;241m*\u001b[39m np\u001b[38;5;241m.\u001b[39mdot(K[:\u001b[38;5;241m-\u001b[39m\u001b[38;5;241m1\u001b[39m]\u001b[38;5;241m.\u001b[39mT, B)\n\u001b[1;32m     67\u001b[0m f_new \u001b[38;5;241m=\u001b[39m fun(t \u001b[38;5;241m+\u001b[39m h, y_new)\n",
      "File \u001b[0;32m~/opt/anaconda3/lib/python3.9/site-packages/scipy/integrate/_ivp/base.py:138\u001b[0m, in \u001b[0;36mOdeSolver.__init__.<locals>.fun\u001b[0;34m(t, y)\u001b[0m\n\u001b[1;32m    136\u001b[0m \u001b[38;5;28;01mdef\u001b[39;00m \u001b[38;5;21mfun\u001b[39m(t, y):\n\u001b[1;32m    137\u001b[0m     \u001b[38;5;28mself\u001b[39m\u001b[38;5;241m.\u001b[39mnfev \u001b[38;5;241m+\u001b[39m\u001b[38;5;241m=\u001b[39m \u001b[38;5;241m1\u001b[39m\n\u001b[0;32m--> 138\u001b[0m     \u001b[38;5;28;01mreturn\u001b[39;00m \u001b[38;5;28;43mself\u001b[39;49m\u001b[38;5;241;43m.\u001b[39;49m\u001b[43mfun_single\u001b[49m\u001b[43m(\u001b[49m\u001b[43mt\u001b[49m\u001b[43m,\u001b[49m\u001b[43m \u001b[49m\u001b[43my\u001b[49m\u001b[43m)\u001b[49m\n",
      "File \u001b[0;32m~/opt/anaconda3/lib/python3.9/site-packages/scipy/integrate/_ivp/base.py:20\u001b[0m, in \u001b[0;36mcheck_arguments.<locals>.fun_wrapped\u001b[0;34m(t, y)\u001b[0m\n\u001b[1;32m     19\u001b[0m \u001b[38;5;28;01mdef\u001b[39;00m \u001b[38;5;21mfun_wrapped\u001b[39m(t, y):\n\u001b[0;32m---> 20\u001b[0m     \u001b[38;5;28;01mreturn\u001b[39;00m np\u001b[38;5;241m.\u001b[39masarray(\u001b[43mfun\u001b[49m\u001b[43m(\u001b[49m\u001b[43mt\u001b[49m\u001b[43m,\u001b[49m\u001b[43m \u001b[49m\u001b[43my\u001b[49m\u001b[43m)\u001b[49m, dtype\u001b[38;5;241m=\u001b[39mdtype)\n",
      "Input \u001b[0;32mIn [120]\u001b[0m, in \u001b[0;36mLotkaVolterraModel.simulate.<locals>.dy\u001b[0;34m(t, state)\u001b[0m\n\u001b[1;32m     71\u001b[0m df_2 \u001b[38;5;241m=\u001b[39m k_2\u001b[38;5;241m*\u001b[39m(f_1\u001b[38;5;241m-\u001b[39mf_2)\n\u001b[1;32m     72\u001b[0m df_3 \u001b[38;5;241m=\u001b[39m k_3\u001b[38;5;241m*\u001b[39m(l_32\u001b[38;5;241m*\u001b[39mf_2 \u001b[38;5;241m-\u001b[39mf_3 \u001b[38;5;241m-\u001b[39m(l_32\u001b[38;5;241m-\u001b[39m\u001b[38;5;241m1\u001b[39m)\u001b[38;5;241m*\u001b[39mf_3\u001b[38;5;241m*\u001b[39mf_4\u001b[38;5;241m*\u001b[39mG)\n\u001b[0;32m---> 73\u001b[0m df_4 \u001b[38;5;241m=\u001b[39m f_4\u001b[38;5;241m*\u001b[39m(\u001b[38;5;241m-\u001b[39m\u001b[38;5;241m1\u001b[39m\u001b[38;5;241m+\u001b[39m(\u001b[38;5;241m1\u001b[39m \u001b[38;5;241m-\u001b[39m \u001b[43mnp\u001b[49m\u001b[38;5;241;43m.\u001b[39;49m\u001b[43mexp\u001b[49m\u001b[43m(\u001b[49m\u001b[38;5;241;43m-\u001b[39;49m\u001b[43md_1\u001b[49m\u001b[38;5;241;43m*\u001b[39;49m\u001b[43mf_1\u001b[49m\u001b[43m \u001b[49m\u001b[38;5;241;43m-\u001b[39;49m\u001b[43m \u001b[49m\u001b[43md_3\u001b[49m\u001b[38;5;241;43m*\u001b[39;49m\u001b[43mf_3\u001b[49m\u001b[43m)\u001b[49m)\u001b[38;5;241m/\u001b[39m(\u001b[38;5;241m1\u001b[39m\u001b[38;5;241m-\u001b[39mnp\u001b[38;5;241m.\u001b[39mexp(\u001b[38;5;241m-\u001b[39md_1\u001b[38;5;241m-\u001b[39md_3)\u001b[38;5;241m+\u001b[39mepsilon))\n\u001b[1;32m     75\u001b[0m \u001b[38;5;28;01mreturn\u001b[39;00m (df_1, df_2, df_3, df_4)\n",
      "\u001b[0;31mKeyboardInterrupt\u001b[0m: "
     ]
    }
   ],
   "source": [
    "# Step 5: Set up the problem\n",
    "problem = pints.MultiOutputProblem(m , mod_times, noisy)\n",
    "error = pints.SumOfSquaresError(problem)\n",
    "\n",
    "# Select boundaries. \n",
    "boundaries = pints.RectangularBoundaries(\n",
    "    [0.001],\n",
    "    [0.1])\n",
    "    # [0.001, 0.0001, 0.001],\n",
    "    # [0.1, 0.001, 0.01])\n",
    "\n",
    "    # [0.001, 0.0001, 0.001, 1.0, 1.0, 1.0, 1.0, 1.0, 1.0],\n",
    "    # [0.1, 0.001, 0.01, 10.0, 10., 10., 10., 100., 100.]\n",
    "\n",
    "# transformation = pints.RectangularBoundariesTransformation(\n",
    "#         [0.001, 0.0001, 0.001],\n",
    "#     [0.1, 0.001, 0.01])\n",
    "\n",
    "# opt = pints.OptimisationController(\n",
    "#     error,\n",
    "#     arbitrary_params,\n",
    "#     method=pints.CMAES,\n",
    "#     transformation=transformation\n",
    "# )\n",
    "\n",
    "# opt.set_log_interval(20)\n",
    "# opt.set_max_evaluations(20000)\n",
    "\n",
    "# found_parameters, found_value = opt.run()\n",
    "\n",
    "found_parameters, found_value = pints.optimise(error, arbitrary_params, boundaries=boundaries)\n",
    "\n",
    "print(\"Fit parameters:\", found_parameters)"
   ]
  },
  {
   "cell_type": "code",
   "execution_count": null,
   "metadata": {},
   "outputs": [],
   "source": [
    "# Evaluate the model with the found parameters and plot the results\n",
    "fig, ax1 = plt.subplots()\n",
    "\n",
    "# Plot observed wolf population\n",
    "ax1.set_xlabel('Time')\n",
    "ax1.set_ylabel('Wolf Population', color='tab:red')\n",
    "ax1.plot(mod_times, observed_data[:, 0], 'x', label='Observed Wolves', color='tab:red')\n",
    "ax1.plot(mod_times, np.exp(problem.evaluate(found_parameters)[:, 0]), label='Model Wolves', color='red')\n",
    "ax1.tick_params(axis='y', labelcolor='tab:red')\n",
    "\n",
    "# Plot observed moose population\n",
    "ax2 = ax1.twinx()\n",
    "ax2.set_ylabel('Moose Population', color='tab:blue')\n",
    "ax2.plot(mod_times, observed_data[:, 1], 'x', label='Observed Moose', color='tab:blue')\n",
    "ax2.plot(mod_times, np.exp(problem.evaluate(found_parameters)[:, 1]), label='Model Moose', color='blue')\n",
    "ax2.tick_params(axis='y', labelcolor='tab:blue')\n",
    "\n",
    "fig.tight_layout()\n",
    "fig.legend(loc='upper right', bbox_to_anchor=(1,1), bbox_transform=ax1.transAxes)\n",
    "plt.show()"
   ]
  },
  {
   "cell_type": "code",
   "execution_count": null,
   "metadata": {},
   "outputs": [],
   "source": [
    "# Step 6: Create the log-posterior\n",
    "log_prior_theta = pints.UniformLogPrior(lower_or_boundaries=0, upper=3)\n",
    "log_prior_sigma = pints.GaussianLogPrior(mean=0, sd=3)\n",
    "log_prior = pints.ComposedLogPrior(log_prior_theta, log_prior_theta, log_prior_theta, log_prior_theta,\n",
    "                                   log_prior_sigma, log_prior_sigma)\n",
    "log_likelihood = pints.GaussianLogLikelihood(problem)\n",
    "log_posterior = pints.LogPosterior(log_likelihood, log_prior)"
   ]
  }
 ],
 "metadata": {
  "kernelspec": {
   "display_name": "base",
   "language": "python",
   "name": "python3"
  },
  "language_info": {
   "codemirror_mode": {
    "name": "ipython",
    "version": 3
   },
   "file_extension": ".py",
   "mimetype": "text/x-python",
   "name": "python",
   "nbconvert_exporter": "python",
   "pygments_lexer": "ipython3",
   "version": "3.9.12"
  }
 },
 "nbformat": 4,
 "nbformat_minor": 2
}
